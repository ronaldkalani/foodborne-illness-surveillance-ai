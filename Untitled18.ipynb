{
  "nbformat": 4,
  "nbformat_minor": 0,
  "metadata": {
    "colab": {
      "provenance": []
    },
    "kernelspec": {
      "name": "python3",
      "display_name": "Python 3"
    },
    "language_info": {
      "name": "python"
    }
  },
  "cells": [
    {
      "cell_type": "markdown",
      "source": [
        "**Project Title:**\n",
        "\n",
        "AI-Powered Public Health Surveillance: Predicting and Visualizing Foodborne Illness Outbreaks Using Geospatial & Epidemiological Data"
      ],
      "metadata": {
        "id": "p0qxXjNyzPmR"
      }
    },
    {
      "cell_type": "markdown",
      "source": [
        "**Goal**\n",
        "\n",
        "To develop an interactive geospatial dashboard and ML-driven analytics pipeline that can:\n",
        "\n",
        "- Detect regional hotspots of foodborne illness\n",
        "\n",
        "- Prioritize inspection efforts based on food-linked severity\n",
        "\n",
        "- Provide actionable insights into public health response strategies\n",
        "\n"
      ],
      "metadata": {
        "id": "_mtt-0hzzT0J"
      }
    },
    {
      "cell_type": "markdown",
      "source": [
        "**Intended Audience**\n",
        "\n",
        "- Public Health Agencies (e.g., CDC, CFIA, local health units)\n",
        "\n",
        "- Food Safety Inspectors\n",
        "\n",
        "- Epidemiologists\n",
        "\n",
        "- Healthcare Data Scientists\n",
        "\n",
        "- Policy Makers for food recalls and safety campaigns\n",
        "\n"
      ],
      "metadata": {
        "id": "AO9WMHD2zfiE"
      }
    },
    {
      "cell_type": "markdown",
      "source": [
        "**Strategy & Pipeline Steps**\n",
        "\n",
        "Step 1: Data Cleaning & Inspection"
      ],
      "metadata": {
        "id": "g8HyxtnFz8N9"
      }
    },
    {
      "cell_type": "code",
      "source": [
        "df = pd.read_csv('/content/outbreaks.csv')\n",
        "df.fillna({'Illnesses': 0, 'Hospitalizations': 0, 'Fatalities': 0}, inplace=True)\n"
      ],
      "metadata": {
        "id": "iSc55qC0z_Vs"
      },
      "execution_count": 10,
      "outputs": []
    },
    {
      "cell_type": "markdown",
      "source": [
        "Step 2: Simulate Missing Coordinates"
      ],
      "metadata": {
        "id": "qmOC1srH0EuM"
      }
    },
    {
      "cell_type": "code",
      "source": [
        "# Generate realistic dummy lat/lon from State column\n",
        "import numpy as np\n",
        "states = df['State'].dropna().unique()\n",
        "coords = {state: (np.random.uniform(25, 49), np.random.uniform(-125, -66)) for state in states}\n",
        "df['Latitude'] = df['State'].map(lambda x: coords.get(x, (np.nan, np.nan))[0])\n",
        "df['Longitude'] = df['State'].map(lambda x: coords.get(x, (np.nan, np.nan))[1])\n"
      ],
      "metadata": {
        "id": "F30p7B1o0LHs"
      },
      "execution_count": 11,
      "outputs": []
    },
    {
      "cell_type": "markdown",
      "source": [
        "Step 3: Create Geospatial Heatmap"
      ],
      "metadata": {
        "id": "1A56Mb060OwQ"
      }
    },
    {
      "cell_type": "code",
      "source": [
        "import folium\n",
        "from folium.plugins import HeatMap\n",
        "\n",
        "m = folium.Map(location=[37.8, -96], zoom_start=4)\n",
        "heat_data = [[row['Latitude'], row['Longitude']] for _, row in df.iterrows()]\n",
        "HeatMap(heat_data).add_to(m)\n",
        "m.save('/content/heatmap_outbreaks.html')\n"
      ],
      "metadata": {
        "id": "DbYRS_dp0TYU"
      },
      "execution_count": 12,
      "outputs": []
    },
    {
      "cell_type": "markdown",
      "source": [
        "Step 4: Temporal Trend of Outbreaks"
      ],
      "metadata": {
        "id": "O6WsjDRJ0YjQ"
      }
    },
    {
      "cell_type": "code",
      "source": [
        "df['Year'] = df['Year'].fillna(0).astype(int)\n",
        "outbreaks_per_year = df.groupby('Year').size()\n",
        "outbreaks_per_year.plot(kind='bar', title='Outbreaks per Year', color='tomato')\n"
      ],
      "metadata": {
        "colab": {
          "base_uri": "https://localhost:8080/",
          "height": 511
        },
        "id": "ml_BfZgP0ckB",
        "outputId": "5c0c1eaf-067f-481f-a5bc-a7727ff19e0c"
      },
      "execution_count": 13,
      "outputs": [
        {
          "output_type": "execute_result",
          "data": {
            "text/plain": [
              "<Axes: title={'center': 'Outbreaks per Year'}, xlabel='Year'>"
            ]
          },
          "metadata": {},
          "execution_count": 13
        },
        {
          "output_type": "display_data",
          "data": {
            "text/plain": [
              "<Figure size 640x480 with 1 Axes>"
            ],
            "image/png": "[encoded data removed]"
          },
          "metadata": {}
        }
      ]
    },
    {
      "cell_type": "markdown",
      "source": [
        "**Title**: \"Outbreaks per Year\" – displays annual outbreak counts from 1998 to 2015.\n",
        "\n",
        "\n",
        "- **Trend Insight**: Peaks between 1999–2005; a steady decline begins post-2006, with the lowest point around 2009.\n",
        "\n",
        "\n",
        "- **Public Health Significance:** May reflect improved outbreak control, surveillance systems, or policy changes.\n",
        "\n",
        "\n",
        "- **Decision-Making Value**: Useful for health authorities to assess historical burden and guide future intervention planning.\n"
      ],
      "metadata": {
        "id": "sar47z_K2lih"
      }
    },
    {
      "cell_type": "markdown",
      "source": [
        "Step 5: Root Cause Identification"
      ],
      "metadata": {
        "id": "e_Qdl1j-0g_g"
      }
    },
    {
      "cell_type": "code",
      "source": [
        "most_severe = df.sort_values(by='Fatalities', ascending=False).head(5)\n",
        "print(most_severe[['Year', 'State', 'Food', 'Species', 'Fatalities']])\n"
      ],
      "metadata": {
        "colab": {
          "base_uri": "https://localhost:8080/"
        },
        "id": "WtFRMLTb0kXk",
        "outputId": "ea2cbdec-179a-41a9-fd03-423e6e57fb96"
      },
      "execution_count": 14,
      "outputs": [
        {
          "output_type": "stream",
          "name": "stdout",
          "text": [
            "       Year       State                         Food                 Species  \\\n",
            "15329  2011  Multistate                   Cantaloupe  Listeria monocytogenes   \n",
            "1062   1998  Multistate         Hot Dog, Unspecified  Listeria monocytogenes   \n",
            "13108  2008  Multistate  Peanut Butter; Peanut Paste     Salmonella enterica   \n",
            "6043   2002  Multistate     Deli Meat, Sliced Turkey  Listeria monocytogenes   \n",
            "18058  2014  Multistate                Caramel Apple  Listeria monocytogenes   \n",
            "\n",
            "       Fatalities  \n",
            "15329        33.0  \n",
            "1062         21.0  \n",
            "13108         9.0  \n",
            "6043          8.0  \n",
            "18058         7.0  \n"
          ]
        }
      ]
    },
    {
      "cell_type": "markdown",
      "source": [
        "**Root Cause Analysis Insight:** This table identifies the five most fatal foodborne outbreaks in the dataset.\n",
        "\n",
        "\n",
        "- **Years of Concern:** Major incidents occurred in 1998, 2002, 2008, 2011, and 2014.\n",
        "\n",
        "\n",
        "- **High-Risk Foods**: Cantaloupe, peanut butter, deli meat, caramel apples, and hot dogs were the top carriers.\n",
        "\n",
        "\n",
        "- **Common Pathogen:** Listeria monocytogenes appears in four out of five cases, indicating a recurring threat.\n",
        "\n",
        "\n",
        "**Significance:** Highlights the critical need for targeted interventions in food safety for specific foods and pathogens."
      ],
      "metadata": {
        "id": "NKlRk1753oAQ"
      }
    },
    {
      "cell_type": "markdown",
      "source": [
        "Step 6: Prioritize Food Items for Inspection"
      ],
      "metadata": {
        "id": "w3ZjCKrF0pCI"
      }
    },
    {
      "cell_type": "code",
      "source": [
        "top_foods = df.groupby('Food')['Hospitalizations'].sum().sort_values(ascending=False).head(10)\n",
        "print(top_foods)\n"
      ],
      "metadata": {
        "colab": {
          "base_uri": "https://localhost:8080/"
        },
        "id": "OiZNWE5X0s4U",
        "outputId": "c4a53eff-9845-4e0b-f28f-a5d4c5ae6136"
      },
      "execution_count": 15,
      "outputs": [
        {
          "output_type": "stream",
          "name": "stdout",
          "text": [
            "Food\n",
            "Cantaloupe                                                  317.0\n",
            "Peppers, Jalapeno; Tomato, Unspecified; Peppers, Serrano    308.0\n",
            "Cucumber                                                    289.0\n",
            "Chicken                                                     285.0\n",
            "Ground Beef, Unspecified                                    206.0\n",
            "Peanut Butter; Peanut Paste                                 166.0\n",
            "Roma Tomato                                                 162.0\n",
            "Pork, Bbq                                                   162.0\n",
            "Tomato, Unspecified                                         161.0\n",
            "Peanut Butter                                               139.0\n",
            "Name: Hospitalizations, dtype: float64\n"
          ]
        }
      ]
    },
    {
      "cell_type": "markdown",
      "source": [
        "**Inspection Prioritization:** This analysis highlights the top 10 food items linked to the highest number of hospitalizations.\n",
        "\n",
        "\n",
        "- **Top Offender**: Cantaloupe ranks first with 317 hospitalizations, followed closely by peppers and cucumbers.\n",
        "\n",
        "\n",
        "- **Animal & Plant Sources:** Both meat products (e.g., ground beef, pork BBQ) and produce (e.g., tomatoes, cucumbers) are represented.\n",
        "\n",
        "\n",
        "- **Recurrent Risk:** Peanut butter appears twice in different forms, reinforcing its inspection priority.\n",
        "\n",
        "\n",
        "**Significance:** Helps regulatory agencies target high-risk foods for increased monitoring, reducing public health impact."
      ],
      "metadata": {
        "id": "6XS32jWQ4aEc"
      }
    },
    {
      "cell_type": "markdown",
      "source": [
        "**Challenges Addressed**\n",
        "\n",
        "- Data sparsity (missing coordinates, incomplete records)\n",
        "\n",
        "- Unstructured reporting (e.g., ingredient variability)\n",
        "\n",
        "- Spatial granularity (limited to state-level for privacy)\n",
        "\n",
        "- Modeling risk with limited labeled outcomes\n",
        "\n"
      ],
      "metadata": {
        "id": "IcwC2Xuj0xS0"
      }
    },
    {
      "cell_type": "markdown",
      "source": [
        "**Problem Statement**\n",
        "\n",
        "How can public health authorities detect, monitor, and act upon clusters of foodborne illness outbreaks using open data and geospatial analysis?\n",
        "\n"
      ],
      "metadata": {
        "id": "x-FD60Al1AU8"
      }
    },
    {
      "cell_type": "markdown",
      "source": [
        "**Dataset**\n",
        "\n",
        "CDC’s Foodborne Illness Outbreak Dataset\n",
        "Kaggle mirror: https://www.kaggle.com/datasets/cdc/foodborne-illness-outbreak-dataset\n",
        "Contains 1000+ outbreaks with attributes:\n",
        "['Year', 'State', 'Food', 'Illnesses', 'Hospitalizations', 'Fatalities', 'Latitude', 'Longitude']\n",
        "\n"
      ],
      "metadata": {
        "id": "56m1OSa51FpI"
      }
    },
    {
      "cell_type": "markdown",
      "source": [
        "**MACHINE LEARNING PREDICTION**\n",
        "\n",
        "- Classification: Will an outbreak cause hospitalization?\n",
        "\n",
        "- Regression: Predict number of hospitalizations/fatalities\n",
        "\n",
        "- Clustering: KMeans for regional risk zones\n",
        "\n"
      ],
      "metadata": {
        "id": "Icu49o_N1Luo"
      }
    },
    {
      "cell_type": "markdown",
      "source": [
        "**Trailer Documentation**\n",
        "\n",
        "- Geospatial risk map (HTML + screenshot)\n",
        "\n",
        "- Time trend bar chart\n",
        "\n",
        "- Top foods bar chart\n",
        "\n",
        "- Root cause analysis table\n",
        "\n",
        "- Exportable dashboard via Streamlit\n",
        "\n"
      ],
      "metadata": {
        "id": "-cRKPRLz1fwl"
      }
    },
    {
      "cell_type": "markdown",
      "source": [
        "** Conceptual Enhancement – AGI Tie-In**\n",
        "\n",
        "This prototype can evolve into an Autonomous Epidemiology Assistant using:\n",
        "\n",
        "- Real-time food recall news ingestion (via NLP)\n",
        "\n",
        "- Multimodal data fusion (social media + outbreak records)\n",
        "\n",
        "- Predictive hotspot alerts\n",
        "\n"
      ],
      "metadata": {
        "id": "iiwlDwvU2HOY"
      }
    }
  ]
}